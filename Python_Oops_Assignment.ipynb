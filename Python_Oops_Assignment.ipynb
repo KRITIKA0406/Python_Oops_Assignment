{
  "nbformat": 4,
  "nbformat_minor": 0,
  "metadata": {
    "colab": {
      "provenance": []
    },
    "kernelspec": {
      "name": "python3",
      "display_name": "Python 3"
    },
    "language_info": {
      "name": "python"
    }
  },
  "cells": [
    {
      "cell_type": "code",
      "execution_count": null,
      "metadata": {
        "id": "88MQymWWHMPh"
      },
      "outputs": [],
      "source": []
    },
    {
      "cell_type": "markdown",
      "source": [
        "                    THEORY QUESTIONS AND ANSWER"
      ],
      "metadata": {
        "id": "H8qrQc2uHVlG"
      }
    },
    {
      "cell_type": "markdown",
      "source": [
        "#1. What is object-oriented programming?\n",
        "#ans-Oop is a programming paradigm where real worldentities are represented as object containing data (attributes)and behaviour(methods)."
      ],
      "metadata": {
        "id": "novDOakEHgl5"
      }
    },
    {
      "cell_type": "markdown",
      "source": [
        "#2. What is class in opp?\n",
        "#ans-A class is a blueprint or template used to create object."
      ],
      "metadata": {
        "id": "7xa-bUi6IFP_"
      }
    },
    {
      "cell_type": "markdown",
      "source": [
        "#3. What is an object in oop?\n",
        "#ans-An object is an instance of a class that represents a real-world entity."
      ],
      "metadata": {
        "id": "8U43Rwm8IU-m"
      }
    },
    {
      "cell_type": "markdown",
      "source": [
        "#4.Difference between abstraction and encaspsulation.\n",
        "#ans-Abstraction:-Hiding implementation details and showing only essential features.\n",
        "\n",
        "* Encapsulation:-Binding data and methods together and controlling acess."
      ],
      "metadata": {
        "id": "6_VmgM7wIoL0"
      }
    },
    {
      "cell_type": "markdown",
      "source": [
        "#5. What are dunder method in python?\n",
        "#ans-Special methond in python written with double underscores(e.g:-init,str)that are automatically invoked by python."
      ],
      "metadata": {
        "id": "Wc6To4DcJLwV"
      }
    },
    {
      "cell_type": "markdown",
      "source": [
        "#6. Explain the concept of inheritence in oop?\n",
        "#ans-Inheritence allows one (child)to acquire properties and method of another class(parent)."
      ],
      "metadata": {
        "id": "_gQsda5KJlBU"
      }
    },
    {
      "cell_type": "markdown",
      "source": [
        "#7. What is polymorphism in oop?\n",
        "#ans-Polymorphism means \"many forms\" where the same function or operator works differently depending on the object."
      ],
      "metadata": {
        "id": "HTpHMq9cKCTU"
      }
    },
    {
      "cell_type": "markdown",
      "source": [
        "#8.How is encapsulation achieved in python?\n",
        "#ans-Encapsulation is achieved using acess modifier:public,protected (_var),and private (_ _var)."
      ],
      "metadata": {
        "id": "iIIYtVbdKZ8X"
      }
    },
    {
      "cell_type": "markdown",
      "source": [
        "#9. What is a constructor in a python?\n",
        "#ans-The init method is a constructor that is automatically called when an object is created."
      ],
      "metadata": {
        "id": "UwGSYMARK4ky"
      }
    },
    {
      "cell_type": "markdown",
      "source": [
        "#10. What are class and ststics method in python/\n",
        "#ans-\n",
        "*Class method:-Declared with @classmethod,take cls as the first parameter.\n",
        "*Static method:-Declared with @staticmethod,does nnot cls or self."
      ],
      "metadata": {
        "id": "SPh7ivq7LKsV"
      }
    },
    {
      "cell_type": "markdown",
      "source": [
        "#11. What is method overloading in python?\n",
        "#ans-Python does not support true method overloading,but it can be simulated using default or variable arguments."
      ],
      "metadata": {
        "id": "Qj1cxt34MN0j"
      }
    },
    {
      "cell_type": "markdown",
      "source": [
        "#12. What is method overriding in python?\n",
        "#ans-Method overriding occurs when a child class redefines a method of its parent class with the same name."
      ],
      "metadata": {
        "id": "7hsf8KB2Lo5U"
      }
    },
    {
      "cell_type": "markdown",
      "source": [
        "#13. What is property decorator in python?\n",
        "#ans-@property allow a method to be accessed like an attribute."
      ],
      "metadata": {
        "id": "NQm_93pWMkvX"
      }
    },
    {
      "cell_type": "markdown",
      "source": [
        "#14. Why is polymorphism important in oop?\n",
        "#ans-It increases flexibility and reusability by allowing the same interface to be used for different types of objects."
      ],
      "metadata": {
        "id": "8hQUOYkzM40e"
      }
    },
    {
      "cell_type": "markdown",
      "source": [
        "#15. What is an abstract classs in python?\n",
        "#ans-A class that cannot be instantiated directly and may containabstract method .Define using the abc module."
      ],
      "metadata": {
        "id": "XwFhcr6tNYFj"
      }
    },
    {
      "cell_type": "markdown",
      "source": [
        "#16. What are advqantage of oop?\n",
        "#ans-Modularity,Reusability data hiding easier maintenance real-world modeling."
      ],
      "metadata": {
        "id": "WEyIfv9SNwey"
      }
    },
    {
      "cell_type": "markdown",
      "source": [
        "#17. Difference between class variable and instance variable.\n",
        "#ans-\n",
        "* Class variable-Shared by all objects of the class.\n",
        "*Instance variable-Unique for each object."
      ],
      "metadata": {
        "id": "oWS50QrLOFx3"
      }
    },
    {
      "cell_type": "markdown",
      "source": [
        "#18. What is multiple inheritence in python?\n",
        "#ans-When a class inherits from more than one parent class."
      ],
      "metadata": {
        "id": "XiQAz5jLOcR9"
      }
    },
    {
      "cell_type": "markdown",
      "source": [
        "#19. Purpose  of str and repr methods.\n",
        "#ans-str-Return a user friendly string representation.\n",
        "repr-Returns a developer-friendly string for debugging."
      ],
      "metadata": {
        "id": "z5fiyGl1Owr2"
      }
    },
    {
      "cell_type": "markdown",
      "source": [
        "#20. Significance of super()function.\n",
        "#ans-Used to call methods of the parent class from the child acess."
      ],
      "metadata": {
        "id": "jO0unjHmPIzY"
      }
    },
    {
      "cell_type": "markdown",
      "source": [
        "#21. Significant of del method.\n",
        "#ans-It is destructor method that is called when an object is deleted."
      ],
      "metadata": {
        "id": "LtghD89CPbB0"
      }
    },
    {
      "cell_type": "markdown",
      "source": [
        "#22. Difference between @staticmethod and @classmethod.\n",
        "#ans-\n",
        "@static method-Does not require class or instance refrence.\n",
        "*@classmethod-Require a class refrence (cls)."
      ],
      "metadata": {
        "id": "BSTymdFGPpzp"
      }
    },
    {
      "cell_type": "markdown",
      "source": [
        "#23. How does polymorphism work in python with inheritance?\n",
        "#ans- A parent class methodcan be overridden in child classes to provide different implementations."
      ],
      "metadata": {
        "id": "0KwlKi5VQC_X"
      }
    },
    {
      "cell_type": "markdown",
      "source": [
        "#24. What is method chaining in python oop?\n",
        "#ans-Calling multiple method in a single line because each method returns the object itself."
      ],
      "metadata": {
        "id": "Sf-4G5DtQicP"
      }
    },
    {
      "cell_type": "markdown",
      "source": [
        "#25. Purpose of call method in python.\n",
        "#ans-Allows an object to be called like a function."
      ],
      "metadata": {
        "id": "4UZo9SdwQ6Ye"
      }
    },
    {
      "cell_type": "markdown",
      "source": [
        "                       PRACTICAL QUESTIONS"
      ],
      "metadata": {
        "id": "ndmkA8ShRKKO"
      }
    },
    {
      "cell_type": "code",
      "source": [
        " #1. Create a parent class Animal with method spea() that print a generic message. create a child class Dog\n",
        " # that overrides the speak()method to print \"Bark!\".\n",
        " #ans:-\n",
        " #parent class\n",
        " class Animal:\n",
        "     def speak(self):\n",
        "         print(\"The animal makes a sound.\")\n",
        " #child class\n",
        " class Dog(Animal):\n",
        "     def speak(self):\n",
        "         print(\"Bark!\")\n",
        " # Create an instance of Dog and call the speak() method\n",
        " a=Animal()\n",
        " a.speak()\n",
        " dog = Dog()\n",
        " dog.speak()"
      ],
      "metadata": {
        "colab": {
          "base_uri": "https://localhost:8080/"
        },
        "id": "j1K5ex7DRVYF",
        "outputId": "f9cd9421-61be-4deb-e428-81ee42997b2a"
      },
      "execution_count": null,
      "outputs": [
        {
          "output_type": "stream",
          "name": "stdout",
          "text": [
            "The animal makes a sound.\n",
            "Bark!\n"
          ]
        }
      ]
    },
    {
      "cell_type": "code",
      "source": [
        "#2. Write a program to create an abstract class Shape with a method area(). Derive classes Circle and Rectangle from it and implement the area() method in both.\n",
        "#ans:-\n",
        "from abc import ABC, abstractmethod\n",
        "import math\n",
        "\n",
        "# Abstract class\n",
        "class Shape(ABC):\n",
        "   @abstractmethod\n",
        "   def area(self):\n",
        "       pass  # must be implemented by child classes\n",
        "\n",
        "# Derive class- Circle\n",
        "class Circle(Shape):\n",
        "    def __init__(self , radius):\n",
        "        self.radius = radius\n",
        "\n",
        "    def area(self):\n",
        "        return math.pi * self.radius * self.radius\n",
        "\n",
        "# Derive class - Rectangle\n",
        "class Rectangle(Shape):\n",
        "   def __init__(self, length, width):\n",
        "       self.length = length\n",
        "       self.width = width\n",
        "\n",
        "\n",
        "   def area(self):\n",
        "       return self.length * self.width\n",
        "\n",
        "\n",
        "# Creating objects\n",
        "c = Circle(5)\n",
        "r = Rectangle(4, 6)\n",
        "\n",
        "# Calling methods\n",
        "print(\"Area of Circle:\", c.area())\n",
        "print(\"Area of Rectangle:\", r.area())\n",
        "\n"
      ],
      "metadata": {
        "colab": {
          "base_uri": "https://localhost:8080/"
        },
        "id": "d4edL9fQTMeB",
        "outputId": "f1a9ce3c-f60f-4049-a512-4b019328b43b"
      },
      "execution_count": null,
      "outputs": [
        {
          "output_type": "stream",
          "name": "stdout",
          "text": [
            "Area of Circle: 78.53981633974483\n",
            "Area of Rectangle: 24\n"
          ]
        }
      ]
    },
    {
      "cell_type": "code",
      "source": [
        "#3. Implement a multi-level inheritance scenario where a class Vehicle has an attribute type. Derive a class Car and further derive a class ElectricCar that adds a battery attribute.\n",
        "#ans:-\n",
        "# Base class\n",
        "class Vehicle:\n",
        "   def __init__(self, vehicle_type):\n",
        "       self.vehicle_type = vehicle_type\n",
        "\n",
        "\n",
        "# Derived class (from Vehicle)\n",
        "class Car(Vehicle):\n",
        "   def __init__(self, vehicle_type, brand):\n",
        "       super().__init__(vehicle_type)  # call parent constructor\n",
        "       self.brand = brand\n",
        "\n",
        "\n",
        "# Further derived class (from Car)\n",
        "class ElectricCar(Car):\n",
        "   def __init__(self, vehicle_type, brand, battery_capacity):\n",
        "       super().__init__(vehicle_type, brand)  # call Car constructor\n",
        "       self.battery_capacity = battery_capacity\n",
        "\n",
        "   def display_info(self):\n",
        "       print(f\"Type:  {self.vehicle_type}, Brand:  {self.brand}, Battery:  {self.battery_capacity}  kwh\")\n",
        "\n",
        "\n",
        "# Creating object of ElectricCar\n",
        "tesla = ElectricCar(\"Four Wheeler\", \"Tesla\" , 75)\n",
        "\n",
        "# Display info\n",
        "tesla.display_info()"
      ],
      "metadata": {
        "colab": {
          "base_uri": "https://localhost:8080/"
        },
        "id": "yyEWFGGoWc9H",
        "outputId": "f2870523-909d-43c6-9f4f-840daf11dcc6"
      },
      "execution_count": null,
      "outputs": [
        {
          "output_type": "stream",
          "name": "stdout",
          "text": [
            "Type:  Four Wheeler, Brand:  Tesla, Battery:  75  kwh\n"
          ]
        }
      ]
    },
    {
      "cell_type": "code",
      "source": [
        "#4. Demonstrate polymorphism by creating a base class Bird with a method fly(). Create two derived classes Sparrow and Penguin that override the fly() method.\n",
        "#ans:-\n",
        "# Base class\n",
        "class Bird:\n",
        "    def fly(self):\n",
        "        print(\"Some birds can fly.\")\n",
        "\n",
        "\n",
        "# Derived class - Sparrow\n",
        "class Sparrow(Bird):\n",
        "   def fly(self):\n",
        "       print(\"Sparrow can fly high in the sky.\")\n",
        "\n",
        "\n",
        "# Derived class - Penguin\n",
        "class Penguin(Bird):\n",
        "    def fly(self):\n",
        "        print(\"Penguin cannot fly , they swim instead.\")\n",
        "\n",
        "# Function that demonstrates polymorphism\n",
        "def show_flight(bird):\n",
        "    bird.fly()\n",
        "\n",
        "\n",
        "# Creating objects\n",
        "sparrow = Sparrow()\n",
        "penguin = Penguin()\n",
        "\n",
        "# Polymorphism in action\n",
        "show_flight(sparrow)  # calls Sparrow's fly()\n",
        "show_flight(penguin)  # calls Penguin's fly()"
      ],
      "metadata": {
        "colab": {
          "base_uri": "https://localhost:8080/"
        },
        "id": "SVybph3HZmDZ",
        "outputId": "b7dcce53-3ea4-42ba-9355-7a058784d42c"
      },
      "execution_count": null,
      "outputs": [
        {
          "output_type": "stream",
          "name": "stdout",
          "text": [
            "Sparrow can fly high in the sky.\n",
            "Penguin cannot fly , they swim instead.\n"
          ]
        }
      ]
    },
    {
      "cell_type": "code",
      "source": [
        "#5. Write a program to demonstrate encapsulation by creating a class BankAccount with private attributes\n",
        "# balance and methods to deposit, withdraw, and check balance\n",
        "#Ans:-\n",
        "class BankAccount:\n",
        "    def __init__(self, initial_balance=0):\n",
        "        # private attribute\n",
        "        self.__balance = initial_balance\n",
        "\n",
        "    # Method to deposit money\n",
        "    def deposit(self, amount):\n",
        "        if amount > 0:\n",
        "            self.__balance += amount\n",
        "            print(f\"Deposited: {amount}\")\n",
        "        else:\n",
        "            print(\"Invalid deposit amount.\")\n",
        "\n",
        "    # Method to withdraw money\n",
        "    def withdraw(self, amount):\n",
        "        if 0 < amount <= self.__balance:\n",
        "            self.__balance -= amount\n",
        "            print(f\"Withdrew: {amount}\")\n",
        "        else:\n",
        "            print(\"Insufficient balance or invalid amount.\")\n",
        "\n",
        "    # Method to check balance\n",
        "    def check_balance(self):\n",
        "        print(f\"Current Balance: {self.__balance}\")\n",
        "\n",
        "\n",
        "# Using the class\n",
        "account = BankAccount(1000)   # initial balance = 1000\n",
        "account.check_balance()\n",
        "\n",
        "account.deposit(500)\n",
        "account.check_balance()\n",
        "\n",
        "account.withdraw(300)\n",
        "account.check_balance()\n",
        "\n",
        "# Trying to access private variable directly (not recommended)\n",
        "# print(account.__balance)   # AttributeError\n",
        "\n"
      ],
      "metadata": {
        "colab": {
          "base_uri": "https://localhost:8080/"
        },
        "id": "Ha5vALy5b_6G",
        "outputId": "793b1cb6-3879-4d59-96d1-8de5d642d5aa"
      },
      "execution_count": 10,
      "outputs": [
        {
          "output_type": "stream",
          "name": "stdout",
          "text": [
            "Current Balance: 1000\n",
            "Deposited: 500\n",
            "Current Balance: 1500\n",
            "Withdrew: 300\n",
            "Current Balance: 1200\n"
          ]
        }
      ]
    },
    {
      "cell_type": "code",
      "source": [
        "#6. Demonstrate runtime polymorphism using a method play() in a base class Instrument. Derive classes Guitar and Piano that implement their own version of play().\n",
        "#ans:-\n",
        "# Base class\n",
        "class Instrument:\n",
        "    def play(self):\n",
        "        print(\"Playing an instrument.\")\n",
        "\n",
        "# Derived class - Guitar\n",
        "class Guitar(Instrument):\n",
        "    def play(self):\n",
        "        print(\"Strumming the guitar.\")\n",
        "\n",
        "# Derived class - Piano\n",
        "class Piano(Instrument):\n",
        "    def play(self):\n",
        "        print(\"Playing the piano.\")\n",
        "\n",
        "\n",
        "# Function to demonstrate runtime polymorphism\n",
        "def perform(instrument):\n",
        "    instrument.play()   # which play() gets called depends on object type at runtime\n",
        "\n",
        "\n",
        "# Creating objects\n",
        "g = Guitar()\n",
        "p = Piano()\n",
        "\n",
        "# Runtime polymorphism in action\n",
        "perform(g)  # calls Guitar's play()\n",
        "perform(p)  # callas Piano's play()"
      ],
      "metadata": {
        "colab": {
          "base_uri": "https://localhost:8080/"
        },
        "id": "BSZKIiGgjfAv",
        "outputId": "17b4da4e-0677-4508-fedd-3ab1e3e8010e"
      },
      "execution_count": null,
      "outputs": [
        {
          "output_type": "stream",
          "name": "stdout",
          "text": [
            "Strumming the guitar.\n",
            "Playing the piano.\n"
          ]
        }
      ]
    },
    {
      "cell_type": "code",
      "source": [
        "#7. Create a class MathOperation with a class method add_numbers() to add two numbers and a static method subtract_numbers() to subtract two numbers.\n",
        "#ans:-\n",
        "class MathOperation:\n",
        "    # Class method\n",
        "    @classmethod\n",
        "    def add_numbers(cls, a, b):\n",
        "        return a + b\n",
        "\n",
        "    # Static method\n",
        "    @staticmethod\n",
        "    def subtract_numbers(a, b):\n",
        "        return a - b\n",
        "\n",
        "# Using the methods\n",
        "print(\"Addition:\", MathOperation.add_numbers(10, 5))\n",
        "print(\"Subtraction:\", MathOperation.subtract_numbers(10, 5))"
      ],
      "metadata": {
        "colab": {
          "base_uri": "https://localhost:8080/"
        },
        "id": "fl3YSxhrl5Yo",
        "outputId": "98d71bb2-12fd-4342-bbaf-3f8b88fd2f98"
      },
      "execution_count": null,
      "outputs": [
        {
          "output_type": "stream",
          "name": "stdout",
          "text": [
            "Addition: 15\n",
            "Subtraction: 5\n"
          ]
        }
      ]
    },
    {
      "cell_type": "code",
      "source": [
        "\n",
        "#8. Implement a class Person with a class method to count the total number of persons created.\n",
        "#ans:-\n",
        "class Person:\n",
        "    # Class variable\n",
        "    count = 0\n",
        "\n",
        "    def __init__(self, name):\n",
        "        self.name = name\n",
        "        # Increase count when new object is created\n",
        "        Person.count += 1\n",
        "\n",
        "\n",
        "    # Class method to get total persons\n",
        "    @classmethod\n",
        "    def get_count(cls):\n",
        "        return cls.count\n",
        "\n",
        "\n",
        "# Creating objects\n",
        "p1 = Person(\"Alice\")\n",
        "p2 = Person(\"Bob\")\n",
        "p3 = Person(\"Charlie\")\n",
        "\n",
        "# Using class method\n",
        "print(\"Total Persons created:\", Person.get_count())\n"
      ],
      "metadata": {
        "colab": {
          "base_uri": "https://localhost:8080/"
        },
        "id": "Jutxgf-gpdxw",
        "outputId": "4828c4c7-7c81-4e1a-9333-db4c279728e1"
      },
      "execution_count": null,
      "outputs": [
        {
          "output_type": "stream",
          "name": "stdout",
          "text": [
            "Total Persons created: 3\n"
          ]
        }
      ]
    },
    {
      "cell_type": "code",
      "source": [
        "#9. Write a class Fraction with attributes numerator and denominator. Override the str method to display the fraction as \"numerator/ denominator\".\n",
        "#ans:-\n",
        "class Fraction:\n",
        "   def __init__(self, numerator, denominator):\n",
        "       self.numerator = numerator\n",
        "       self.denominator = denominator\n",
        "\n",
        "    # Override __str__ method\n",
        "   def __str__(self):\n",
        "        return f\"{self.numerator}/{self.denominator}\"\n",
        "\n",
        "# Creating objects\n",
        "f1 = Fraction(3, 4)\n",
        "f2 = Fraction(7, 8)\n",
        "\n",
        "# Printing objects\n",
        "print(f1)  # Output: 3/4\n",
        "print(f2)  # Output: 7/8\n"
      ],
      "metadata": {
        "colab": {
          "base_uri": "https://localhost:8080/"
        },
        "id": "-I1U1BAhrd62",
        "outputId": "9d04ade2-388a-4cc5-d498-4d8afabc5584"
      },
      "execution_count": null,
      "outputs": [
        {
          "output_type": "stream",
          "name": "stdout",
          "text": [
            "3/4\n",
            "7/8\n"
          ]
        }
      ]
    },
    {
      "cell_type": "code",
      "source": [
        "#10. Demonstrate operator overloading by creating a class Vector and overriding the add method to add two vectors.\n",
        "#Ans:-\n",
        "class Vector:\n",
        "    def __init__(self, x, y):\n",
        "        self.x = x\n",
        "        self.y = y\n",
        "\n",
        "    # Overloading the + operator\n",
        "    def __add__(self, other):\n",
        "        return Vector(self.x + other.x, self.y + other.y)\n",
        "\n",
        "    # Override __str__ for easy printing\n",
        "    def __str__(self):\n",
        "        return f\"({self.x}, {self.y})\"\n",
        "\n",
        "\n",
        "# Creating vectors\n",
        "v1 = Vector(2, 3)\n",
        "v2 = Vector(4, 5)\n",
        "\n",
        "# Adding vectors using + operator\n",
        "v3 = v1 + v2\n",
        "\n",
        "# Display result\n",
        "print(\"v1 + v2 =\", v3)"
      ],
      "metadata": {
        "colab": {
          "base_uri": "https://localhost:8080/"
        },
        "id": "vKNfReMoulKL",
        "outputId": "df3621f3-6ecb-4044-eb9c-747f2294d30a"
      },
      "execution_count": 9,
      "outputs": [
        {
          "output_type": "stream",
          "name": "stdout",
          "text": [
            "v1 + v2 = (6, 8)\n"
          ]
        }
      ]
    },
    {
      "cell_type": "code",
      "source": [
        " #11. Create a class Person with attributes name and age. Add a method greet() that prints \"Hello, my name is\n",
        "#{name} and I am {age} years old.\"\n",
        "#Ans:-\n",
        "class Person:\n",
        "    def __init__(self, name, age):\n",
        "        self.name = name\n",
        "        self.age = age\n",
        "\n",
        "    # Method to greet\n",
        "    def greet(self):\n",
        "        print(f\"Hello, my name is {self.name} and I am {self.age} years old.\")\n",
        "\n",
        "\n",
        "# Creating objects\n",
        "p1 = Person(\"vaibhu\", 25)\n",
        "p2 = Person(\"sharma\", 30)\n",
        "\n",
        "# Calling greet method\n",
        "p1.greet()\n",
        "p2.greet()"
      ],
      "metadata": {
        "colab": {
          "base_uri": "https://localhost:8080/"
        },
        "id": "trvw8E0QaFNI",
        "outputId": "4fc45c18-0222-43c0-e10d-1717ce517c0f"
      },
      "execution_count": 8,
      "outputs": [
        {
          "output_type": "stream",
          "name": "stdout",
          "text": [
            "Hello, my name is vaibhu and I am 25 years old.\n",
            "Hello, my name is sharma and I am 30 years old.\n"
          ]
        }
      ]
    },
    {
      "cell_type": "code",
      "source": [
        "#12. Implement a class Student with attributes name and grades. Create a method average_grade() to compute\n",
        "#the average of the grades.\n",
        "#Ans:-\n",
        "class Student:\n",
        "    def __init__(self, name, grades):\n",
        "        self.name = name\n",
        "        self.grades = grades  # list of numbers\n",
        "\n",
        "    # Method to compute average grade\n",
        "    def average_grade(self):\n",
        "        if len(self.grades) == 0:\n",
        "            return 0\n",
        "        return sum(self.grades) / len(self.grades)\n",
        "\n",
        "\n",
        "# Creating objects\n",
        "s1 = Student(\"vaibhu\", [85, 90, 78])\n",
        "s2 = Student(\"Brahman\", [70, 80, 75, 90])\n",
        "\n",
        "# Calling average_grade method\n",
        "print(f\"{s1.name} average grade: {s1.average_grade()}\")\n",
        "print(f\"{s2.name} average grade: {s2.average_grade()}\")"
      ],
      "metadata": {
        "colab": {
          "base_uri": "https://localhost:8080/"
        },
        "id": "-qJuMP-lc4Yy",
        "outputId": "29642470-d8b1-4f88-a4d4-c2d172f89525"
      },
      "execution_count": 7,
      "outputs": [
        {
          "output_type": "stream",
          "name": "stdout",
          "text": [
            "vaibhu average grade: 84.33333333333333\n",
            "Brahman average grade: 78.75\n"
          ]
        }
      ]
    },
    {
      "cell_type": "code",
      "source": [
        "#13. Create a class Rectangle with methods set_dimensions() to set the dimensions and area() to calculate the area.\n",
        "#Ans:-\n",
        "class Rectangle:\n",
        "    def __init__(self):\n",
        "        self.length = 0\n",
        "        self.width = 0\n",
        "\n",
        "    # Method to set dimensions\n",
        "    def set_dimensions(self, length, width):\n",
        "        self.length = length\n",
        "        self.width = width\n",
        "\n",
        "    # Method to calculate area\n",
        "    def area(self):\n",
        "        return self.length * self.width\n",
        "\n",
        "\n",
        "# Creating object\n",
        "rect = Rectangle()\n",
        "\n",
        "# Setting dimensions\n",
        "rect.set_dimensions(5, 3)\n",
        "\n",
        "# Calculating area\n",
        "print(\"Area of rectangle:\", rect.area())"
      ],
      "metadata": {
        "colab": {
          "base_uri": "https://localhost:8080/"
        },
        "id": "Btuh3B-xe1f-",
        "outputId": "b80d8419-209a-44da-c8e9-a42839066de2"
      },
      "execution_count": 11,
      "outputs": [
        {
          "output_type": "stream",
          "name": "stdout",
          "text": [
            "Area of rectangle: 15\n"
          ]
        }
      ]
    },
    {
      "cell_type": "code",
      "source": [
        "#14. Create a class Employee with a method calculate_salary() that computes the salary based on hours worked\n",
        "#and hourly rate. Create a derived class Manager that adds a bonus to the salary.\n",
        "#Ans:-\n",
        "# Base class\n",
        "class Employee:\n",
        "    def __init__(self, name, hours_worked, hourly_rate):\n",
        "        self.name = name\n",
        "        self.hours_worked = hours_worked\n",
        "        self.hourly_rate = hourly_rate\n",
        "\n",
        "    # Method to calculate salary\n",
        "    def calculate_salary(self):\n",
        "        return self.hours_worked * self.hourly_rate\n",
        "\n",
        "\n",
        "# Derived class\n",
        "class Manager(Employee):\n",
        "    def __init__(self, name, hours_worked, hourly_rate, bonus):\n",
        "        super().__init__(name, hours_worked, hourly_rate)\n",
        "        self.bonus = bonus\n",
        "\n",
        "    # Overriding method to include bonus\n",
        "    def calculate_salary(self):\n",
        "        base_salary = super().calculate_salary()\n",
        "        return base_salary + self.bonus\n",
        "\n",
        "\n",
        "# Creating objects\n",
        "emp = Employee(\"vaibhav\", 40, 20)\n",
        "mgr = Manager(\"shiv\", 40, 25, 500)\n",
        "\n",
        "# Calculating salaries\n",
        "print(f\"{emp.name} Salary: {emp.calculate_salary()}\")\n",
        "print(f\"{mgr.name} Salary: {mgr.calculate_salary()}\")"
      ],
      "metadata": {
        "colab": {
          "base_uri": "https://localhost:8080/"
        },
        "id": "EYl28oEbe8dQ",
        "outputId": "1fda50a5-d419-47cb-a7e3-6aa0b4b56485"
      },
      "execution_count": 12,
      "outputs": [
        {
          "output_type": "stream",
          "name": "stdout",
          "text": [
            "vaibhav Salary: 800\n",
            "shiv Salary: 1500\n"
          ]
        }
      ]
    },
    {
      "cell_type": "code",
      "source": [
        "#15. Create a class Product with attributes name, price, and quantity. Implement a method total_price() that\n",
        "#calculates the total price of the product.\n",
        "#Ans:-\n",
        "class Product:\n",
        "    def __init__(self, name, price, quantity):\n",
        "        self.name = name\n",
        "        self.price = price\n",
        "        self.quantity = quantity\n",
        "\n",
        "    # Method to calculate total price\n",
        "    def total_price(self):\n",
        "        return self.price * self.quantity\n",
        "\n",
        "\n",
        "# Creating objects\n",
        "p1 = Product(\"Laptop\", 500, 2)\n",
        "p2 = Product(\"Phone\", 300, 5)\n",
        "\n",
        "# Calculating total prices\n",
        "print(f\"{p1.name} total price: {p1.total_price()}\")\n",
        "print(f\"{p2.name} total price: {p2.total_price()}\")"
      ],
      "metadata": {
        "colab": {
          "base_uri": "https://localhost:8080/"
        },
        "id": "3SqXfwetfCgI",
        "outputId": "ee30ea12-1591-4314-e49b-eed6f325bafd"
      },
      "execution_count": 13,
      "outputs": [
        {
          "output_type": "stream",
          "name": "stdout",
          "text": [
            "Laptop total price: 1000\n",
            "Phone total price: 1500\n"
          ]
        }
      ]
    },
    {
      "cell_type": "code",
      "source": [
        "#16. Create a class Animal with an abstract method sound(). Create two derived classes Cow and Sheep that implement the sound() method.\n",
        "#Ans:-\n",
        "from abc import ABC, abstractmethod\n",
        "\n",
        "# Abstract class\n",
        "class Animal(ABC):\n",
        "    @abstractmethod\n",
        "    def sound(self):\n",
        "        pass\n",
        "\n",
        "# Derived class - Cow\n",
        "class Cow(Animal):\n",
        "    def sound(self):\n",
        "        print(\"Cow says Moo\")\n",
        "\n",
        "# Derived class - Sheep\n",
        "class Sheep(Animal):\n",
        "    def sound(self):\n",
        "        print(\"Sheep says Baa\")\n",
        "\n",
        "# Creating objects\n",
        "cow = Cow()\n",
        "sheep = Sheep()\n",
        "\n",
        "# Calling sound() method\n",
        "cow.sound()\n",
        "sheep.sound()"
      ],
      "metadata": {
        "colab": {
          "base_uri": "https://localhost:8080/"
        },
        "id": "YtqJCjaSfIf6",
        "outputId": "8fa58ebc-4889-4cf7-cb4d-3cc053a32e7e"
      },
      "execution_count": 14,
      "outputs": [
        {
          "output_type": "stream",
          "name": "stdout",
          "text": [
            "Cow says Moo\n",
            "Sheep says Baa\n"
          ]
        }
      ]
    },
    {
      "cell_type": "code",
      "source": [
        "#17. Create a class Book with attributes title, author, and year_published. Add a method get_book_info() that\n",
        "#returns a formatted string with the book's details.\n",
        "#Ans:-\n",
        "class Book:\n",
        "    def __init__(self, title, author, year_published):\n",
        "        self.title = title\n",
        "        self.author = author\n",
        "        self.year_published = year_published\n",
        "\n",
        "    # Method to return book info\n",
        "    def get_book_info(self):\n",
        "        return f\"Title: {self.title}, Author: {self.author}, Year Published: {self.year_published}\"\n",
        "\n",
        "\n",
        "# Creating objects\n",
        "book1 = Book(\"1984\", \"George Orwell\", 1949)\n",
        "book2 = Book(\"To Kill a Mockingbird\", \"Harper Lee\", 1960)\n",
        "\n",
        "# Getting book info\n",
        "print(book1.get_book_info())\n",
        "print(book2.get_book_info())"
      ],
      "metadata": {
        "colab": {
          "base_uri": "https://localhost:8080/"
        },
        "id": "Ayp86C2wfVFY",
        "outputId": "eeb92150-f6a3-4c94-e957-446fcb285c57"
      },
      "execution_count": 15,
      "outputs": [
        {
          "output_type": "stream",
          "name": "stdout",
          "text": [
            "Title: 1984, Author: George Orwell, Year Published: 1949\n",
            "Title: To Kill a Mockingbird, Author: Harper Lee, Year Published: 1960\n"
          ]
        }
      ]
    },
    {
      "cell_type": "code",
      "source": [
        "#18. Create a class House with attributes address and price. Create a derived class Mansion that adds an attribute number_of_rooms.\n",
        "#Ans:-\n",
        "# Base class\n",
        "class House:\n",
        "    def __init__(self, address, price):\n",
        "        self.address = address\n",
        "        self.price = price\n",
        "\n",
        "# Derived class\n",
        "class Mansion(House):\n",
        "    def __init__(self, address, price, number_of_rooms):\n",
        "        super().__init__(address, price)  # call base class constructor\n",
        "        self.number_of_rooms = number_of_rooms\n",
        "\n",
        "    # Method to display info\n",
        "    def display_info(self):\n",
        "        print(f\"Address: {self.address}, Price: {self.price}, Rooms: {self.number_of_rooms}\")\n",
        "\n",
        "\n",
        "# Creating objects\n",
        "h1 = House(\"123 Main St\", 200000)\n",
        "m1 = Mansion(\"456 Luxury Ave\", 1000000, 10)\n",
        "\n",
        "# Displaying info\n",
        "print(f\"House: Address: {h1.address}, Price: {h1.price}\")\n",
        "m1.display_info()"
      ],
      "metadata": {
        "colab": {
          "base_uri": "https://localhost:8080/"
        },
        "id": "qu7YvBNoflTU",
        "outputId": "6b93e600-c8d5-4d37-e74e-e95a85f41283"
      },
      "execution_count": 16,
      "outputs": [
        {
          "output_type": "stream",
          "name": "stdout",
          "text": [
            "House: Address: 123 Main St, Price: 200000\n",
            "Address: 456 Luxury Ave, Price: 1000000, Rooms: 10\n"
          ]
        }
      ]
    }
  ]
}